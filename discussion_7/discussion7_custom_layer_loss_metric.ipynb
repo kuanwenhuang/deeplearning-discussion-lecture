{
 "cells": [
  {
   "cell_type": "code",
   "execution_count": 1,
   "metadata": {},
   "outputs": [],
   "source": [
    "import h5py\n",
    "import os,sys,pdb,time\n",
    "import numpy as np\n",
    "from sklearn.utils import shuffle\n",
    "import tensorflow as tf\n",
    "from tensorflow import keras\n",
    "from tensorflow.keras import backend as K\n",
    "import matplotlib.pyplot as plt\n",
    "keras.backend.clear_session()  # For easy reset of Jupyter notebook\n"
   ]
  },
  {
   "cell_type": "code",
   "execution_count": 2,
   "metadata": {},
   "outputs": [
    {
     "name": "stdout",
     "output_type": "stream",
     "text": [
      "keys of the dataset:  ['xdata', 'ydata']\n",
      "(10000, 784) uint8 (10000, 10) float64\n",
      "(10000, 784) float64\n",
      "7000 train samples\n",
      "3000 test samples\n"
     ]
    }
   ],
   "source": [
    "############################################################\n",
    "# Data: Load a subset of MNIST data\n",
    "# split in into train and test\n",
    "############################################################\n",
    "# Load hdf5 file in 'r' mode\n",
    "f = h5py.File('mnist_testdata.hdf5', 'r') # small dataset, assume this our full data\n",
    "print('keys of the dataset: ', list(f.keys())) # useful for seeing the data set name/key\n",
    "data = f['xdata'][:]\n",
    "labels = f['ydata'][:]\n",
    "print(data.shape, data.dtype, labels.shape, labels.dtype)\n",
    "data,labels = shuffle(data, labels)\n",
    "\n",
    "# preprocess the data\n",
    "data = data/255\n",
    "print(data.shape, data.dtype)\n",
    "\n",
    "# spliting training and testing samples\n",
    "split=7000\n",
    "x_train = data[:split, ...]\n",
    "x_test = data[split:,...]\n",
    "y_train = labels[:split,...]\n",
    "y_test = labels[split:,...]\n",
    "print(x_train.shape[0], 'train samples')\n",
    "print(x_test.shape[0], 'test samples')"
   ]
  },
  {
   "cell_type": "code",
   "execution_count": 3,
   "metadata": {},
   "outputs": [],
   "source": [
    "class WeirdLinear(keras.layers.Layer):\n",
    "    def __init__(self, units=10):\n",
    "        super(WeirdLinear, self).__init__() # same as keras.layers.Layer.__init__() \n",
    "        self.units = units\n",
    "    def build(self, input_shape):\n",
    "        self.w = self.add_weight(shape=(input_shape[-1], self.units), name = 'w', initializer = 'random_normal', trainable=False)\n",
    "        self.b = self.add_weight(shape=(self.units,), name = 'b',initializer = 'random_normal' ,trainable=True)\n",
    "    def call(self, inputs): \n",
    "        return inputs @ self.w + self.b   # shape of self.b broadcasting\n",
    "    def get_config(self):\n",
    "        config = super().get_config().copy()\n",
    "        config.update({'units': self.units})\n",
    "        return config\n",
    "\n"
   ]
  },
  {
   "cell_type": "code",
   "execution_count": 4,
   "metadata": {},
   "outputs": [
    {
     "name": "stdout",
     "output_type": "stream",
     "text": [
      "Model: \"model\"\n",
      "_________________________________________________________________\n",
      "Layer (type)                 Output Shape              Param #   \n",
      "=================================================================\n",
      "input_1 (InputLayer)         [(None, 784)]             0         \n",
      "_________________________________________________________________\n",
      "dense (Dense)                (None, 64)                50240     \n",
      "_________________________________________________________________\n",
      "dense_1 (Dense)              (None, 32)                2080      \n",
      "_________________________________________________________________\n",
      "weird_linear (WeirdLinear)   (None, 32)                1056      \n",
      "_________________________________________________________________\n",
      "dense_2 (Dense)              (None, 10)                330       \n",
      "=================================================================\n",
      "Total params: 53,706\n",
      "Trainable params: 52,682\n",
      "Non-trainable params: 1,024\n",
      "_________________________________________________________________\n",
      "None\n"
     ]
    }
   ],
   "source": [
    "############################################################\n",
    "# Define a functional API model\n",
    "# Layer 1:                  784 * 64\n",
    "# Activation 1:             relu\n",
    "# Layer 2:                  64 * 32\n",
    "# Activation 2:             relu\n",
    "# Layer 3:                  32 * 32 (Weird Costom Linear Layer)\n",
    "# Activation 3:             relu\n",
    "# Layer 4:                  32 * 10 \n",
    "# Activation 4:             softmax\n",
    "############################################################\n",
    "\n",
    "inputs = keras.Input(shape=(784,))\n",
    "\n",
    "# a layer instance is callable on a tensor, and returns a tensor\n",
    "h0 = keras.layers.Dense(64, activation='relu')(inputs)\n",
    "h1 = keras.layers.Dense(32, activation='relu')(h0)\n",
    "h2 = WeirdLinear(32)(h1)\n",
    "outputs = keras.layers.Dense(10, activation='softmax')(h2)\n",
    "\n",
    "# This creates a model that includes\n",
    "# the Input layer and three Dense layers\n",
    "model = keras.Model(inputs=inputs, outputs=outputs)\n",
    "\n",
    "############################################################\n",
    "# Model printing\n",
    "############################################################\n",
    "print(model.summary())"
   ]
  },
  {
   "cell_type": "code",
   "execution_count": 5,
   "metadata": {},
   "outputs": [
    {
     "data": {
      "image/png": "[encoded data removed]",
      "text/plain": [
       "<IPython.core.display.Image object>"
      ]
     },
     "execution_count": 5,
     "metadata": {},
     "output_type": "execute_result"
    }
   ],
   "source": [
    "# this will produce a digram of the model -- requires pydot and graphviz installed (pip install pydot graphviz)\n",
    "# may need to update graphviz package first (Mac: brew install graphviz/Linux: sudo apt-get install graphviz)\n",
    "keras.utils.plot_model(model, to_file='model_3.png', show_shapes=True, show_layer_names=True)"
   ]
  },
  {
   "cell_type": "code",
   "execution_count": 6,
   "metadata": {},
   "outputs": [
    {
     "name": "stdout",
     "output_type": "stream",
     "text": [
      "tf.Tensor(0.09458993, shape=(), dtype=float32) Loss is 0.09458993\n",
      "tf.Tensor(1.0725422, shape=(), dtype=float32) Loss is 1.0725422\n"
     ]
    }
   ],
   "source": [
    "## Built-in Loss\n",
    "cce = tf.keras.losses.CategoricalCrossentropy()\n",
    "loss = cce(\n",
    "  [[1., 0., 0.], [0., 1., 0.], [0., 0., 1.]],\n",
    "  [[.9, .05, .05], [.05, .89, .06], [.05, .01, .94]])\n",
    "print(loss, 'Loss is', loss.numpy())  # Loss: 0.09458993\n",
    "\n",
    "loss2 = cce(\n",
    "  [[1., 0., 0.], [0., 1., 0.], [1., 0., 0.]],\n",
    "  [[.9, .05, .05], [.05, .89, .06], [.05, .01, .94]])\n",
    "print(loss2, 'Loss is', loss2.numpy())  # Loss: 1.0725422"
   ]
  },
  {
   "cell_type": "code",
   "execution_count": 7,
   "metadata": {},
   "outputs": [
    {
     "name": "stdout",
     "output_type": "stream",
     "text": [
      "tf.Tensor(1.0725422, shape=(), dtype=float32) Loss is 1.0725422\n",
      "tf.Tensor(10.375821, shape=(), dtype=float32) Loss is 10.375821\n"
     ]
    }
   ],
   "source": [
    "# Custom Loss\n",
    "class WeightedCCE(keras.losses.Loss):\n",
    "    def __init__(self, weights):\n",
    "        super(WeightedCCE, self).__init__()\n",
    "        self.weights = weights\n",
    "    \n",
    "    def call(self, y_true, y_pred):\n",
    "        return - K.mean(K.sum(y_true * K.log(y_pred) * self.weights,axis = 1))\n",
    "    \n",
    "# Custom Loss Object\n",
    "wcce = WeightedCCE([1, 1, 1])\n",
    "loss3 = wcce(\n",
    "  [[1., 0., 0.], [0., 1., 0.], [1., 0., 0.]],\n",
    "  [[.9, .05, .05], [.05, .89, .06], [.05, .01, .94]])\n",
    "\n",
    "print(loss3, 'Loss is', loss3.numpy())  # Loss: 0.09458993\n",
    "\n",
    "# Custom Loss Object 2\n",
    "wcce2 = WeightedCCE([10, 1, 1])\n",
    "loss4 = wcce2(\n",
    "  [[1., 0., 0.], [0., 1., 0.], [1., 0., 0.]],\n",
    "  [[.9, .05, .05], [.05, .89, .06], [.05, .01, .94]])\n",
    "\n",
    "print(loss4, 'Loss is', loss4.numpy())  # Loss: 0.09458993"
   ]
  },
  {
   "cell_type": "code",
   "execution_count": 8,
   "metadata": {},
   "outputs": [],
   "source": [
    "# Custom Metric to log\n",
    "def max_y_predict(y_true, y_pred):\n",
    "    return K.max(y_pred)"
   ]
  },
  {
   "cell_type": "code",
   "execution_count": 9,
   "metadata": {
    "scrolled": false
   },
   "outputs": [
    {
     "name": "stdout",
     "output_type": "stream",
     "text": [
      "(None, 10)\n"
     ]
    }
   ],
   "source": [
    "############################################################\n",
    "# Model compilation\n",
    "# Must be called before starting training\n",
    "############################################################\n",
    "# For a multi-class classification problem\n",
    "\n",
    "# Custom Loss Object 3\n",
    "wcce3 = WeightedCCE([20, 20, 1, 1, 1, 2, 3, 4, 5, 6]) # Emphasize class 0 and 1\n",
    "\n",
    "\n",
    "model.compile(optimizer='sgd',\n",
    "              loss=wcce3, # Custom loss object 3\n",
    "              metrics=['accuracy', max_y_predict])   # while sparse_categorical_crossentropy handles true labels as integers\n",
    "\n",
    "\n"
   ]
  },
  {
   "cell_type": "code",
   "execution_count": 10,
   "metadata": {
    "scrolled": true
   },
   "outputs": [
    {
     "name": "stdout",
     "output_type": "stream",
     "text": [
      "Train on 5600 samples, validate on 1400 samples\n",
      "Epoch 1/50\n",
      "(32, 10)\n",
      "(32, 10)\n",
      "4832/5600 [========================>.....] - ETA: 0s - loss: 7.7281 - accuracy: 0.2436 - max_y_predict: 0.7729(None, 10)\n",
      "5600/5600 [==============================] - 1s 126us/sample - loss: 7.3389 - accuracy: 0.2605 - max_y_predict: 0.8014 - val_loss: 4.6967 - val_accuracy: 0.3814 - val_max_y_predict: 0.9892\n",
      "Epoch 2/50\n",
      "5600/5600 [==============================] - 0s 63us/sample - loss: 3.8156 - accuracy: 0.4402 - max_y_predict: 0.9940 - val_loss: 3.2473 - val_accuracy: 0.5057 - val_max_y_predict: 0.9945\n",
      "Epoch 3/50\n",
      "5600/5600 [==============================] - 0s 59us/sample - loss: 2.7793 - accuracy: 0.5366 - max_y_predict: 0.9972 - val_loss: 2.5036 - val_accuracy: 0.5557 - val_max_y_predict: 0.9986\n",
      "Epoch 4/50\n",
      "5600/5600 [==============================] - 0s 53us/sample - loss: 2.2021 - accuracy: 0.5889 - max_y_predict: 0.9982 - val_loss: 2.1545 - val_accuracy: 0.6150 - val_max_y_predict: 0.9984\n",
      "Epoch 5/50\n",
      "5600/5600 [==============================] - 0s 54us/sample - loss: 1.8604 - accuracy: 0.6416 - max_y_predict: 0.9989 - val_loss: 1.8956 - val_accuracy: 0.6729 - val_max_y_predict: 0.9990\n",
      "Epoch 6/50\n",
      "5600/5600 [==============================] - 0s 54us/sample - loss: 1.6131 - accuracy: 0.7011 - max_y_predict: 0.9992 - val_loss: 1.6895 - val_accuracy: 0.7121 - val_max_y_predict: 0.9992\n",
      "Epoch 7/50\n",
      "5600/5600 [==============================] - 0s 54us/sample - loss: 1.4294 - accuracy: 0.7514 - max_y_predict: 0.9994 - val_loss: 1.5423 - val_accuracy: 0.7757 - val_max_y_predict: 0.9992\n",
      "Epoch 8/50\n",
      "5600/5600 [==============================] - 0s 54us/sample - loss: 1.2714 - accuracy: 0.7889 - max_y_predict: 0.9994 - val_loss: 1.6057 - val_accuracy: 0.7836 - val_max_y_predict: 0.9992\n",
      "Epoch 9/50\n",
      "5600/5600 [==============================] - 0s 54us/sample - loss: 1.1668 - accuracy: 0.8109 - max_y_predict: 0.9996 - val_loss: 1.3975 - val_accuracy: 0.8279 - val_max_y_predict: 0.9991\n",
      "Epoch 10/50\n",
      "5600/5600 [==============================] - 0s 55us/sample - loss: 1.0710 - accuracy: 0.8314 - max_y_predict: 0.9995 - val_loss: 1.3931 - val_accuracy: 0.8271 - val_max_y_predict: 0.9995\n",
      "Epoch 11/50\n",
      "5600/5600 [==============================] - 0s 59us/sample - loss: 0.9964 - accuracy: 0.8450 - max_y_predict: 0.9996 - val_loss: 1.2631 - val_accuracy: 0.8421 - val_max_y_predict: 0.9997\n",
      "Epoch 12/50\n",
      "5600/5600 [==============================] - 0s 53us/sample - loss: 0.9286 - accuracy: 0.8564 - max_y_predict: 0.9998 - val_loss: 1.3289 - val_accuracy: 0.8400 - val_max_y_predict: 0.9997\n",
      "Epoch 13/50\n",
      "5600/5600 [==============================] - 0s 53us/sample - loss: 0.8902 - accuracy: 0.8636 - max_y_predict: 0.9998 - val_loss: 1.2168 - val_accuracy: 0.8664 - val_max_y_predict: 0.9997\n",
      "Epoch 14/50\n",
      "5600/5600 [==============================] - 0s 66us/sample - loss: 0.8423 - accuracy: 0.8727 - max_y_predict: 0.9998 - val_loss: 1.2413 - val_accuracy: 0.8557 - val_max_y_predict: 0.9999\n",
      "Epoch 15/50\n",
      "5600/5600 [==============================] - 0s 60us/sample - loss: 0.7941 - accuracy: 0.8809 - max_y_predict: 0.9999 - val_loss: 1.2218 - val_accuracy: 0.8636 - val_max_y_predict: 0.9997\n",
      "Epoch 16/50\n",
      "5600/5600 [==============================] - 0s 55us/sample - loss: 0.7494 - accuracy: 0.8868 - max_y_predict: 0.9999 - val_loss: 1.2199 - val_accuracy: 0.8729 - val_max_y_predict: 0.9997\n",
      "Epoch 17/50\n",
      "5600/5600 [==============================] - 0s 63us/sample - loss: 0.7249 - accuracy: 0.8909 - max_y_predict: 0.9999 - val_loss: 1.1330 - val_accuracy: 0.8771 - val_max_y_predict: 0.9998\n",
      "Epoch 18/50\n",
      "5600/5600 [==============================] - 0s 57us/sample - loss: 0.6936 - accuracy: 0.8941 - max_y_predict: 0.9999 - val_loss: 1.2214 - val_accuracy: 0.8871 - val_max_y_predict: 0.9998\n",
      "Epoch 19/50\n",
      "5600/5600 [==============================] - 0s 55us/sample - loss: 0.6649 - accuracy: 0.8996 - max_y_predict: 0.9999 - val_loss: 1.2107 - val_accuracy: 0.8829 - val_max_y_predict: 1.0000\n",
      "Epoch 20/50\n",
      "5600/5600 [==============================] - 0s 59us/sample - loss: 0.6273 - accuracy: 0.9034 - max_y_predict: 0.9999 - val_loss: 1.1850 - val_accuracy: 0.8821 - val_max_y_predict: 0.9999\n",
      "Epoch 21/50\n",
      "5600/5600 [==============================] - 0s 56us/sample - loss: 0.6072 - accuracy: 0.9066 - max_y_predict: 0.9999 - val_loss: 1.1242 - val_accuracy: 0.8757 - val_max_y_predict: 1.0000\n",
      "Epoch 22/50\n",
      "5600/5600 [==============================] - 0s 53us/sample - loss: 0.5819 - accuracy: 0.9091 - max_y_predict: 0.9999 - val_loss: 1.1209 - val_accuracy: 0.8900 - val_max_y_predict: 0.9999\n",
      "Epoch 23/50\n",
      "5600/5600 [==============================] - 0s 78us/sample - loss: 0.5523 - accuracy: 0.9145 - max_y_predict: 0.9999 - val_loss: 1.1664 - val_accuracy: 0.8986 - val_max_y_predict: 0.9999\n",
      "Epoch 24/50\n",
      "5600/5600 [==============================] - 0s 55us/sample - loss: 0.5343 - accuracy: 0.9168 - max_y_predict: 1.0000 - val_loss: 1.0941 - val_accuracy: 0.8979 - val_max_y_predict: 0.9999\n",
      "Epoch 25/50\n",
      "5600/5600 [==============================] - 0s 56us/sample - loss: 0.5204 - accuracy: 0.9162 - max_y_predict: 1.0000 - val_loss: 1.1958 - val_accuracy: 0.9014 - val_max_y_predict: 0.9999\n",
      "Epoch 26/50\n",
      "5600/5600 [==============================] - 0s 54us/sample - loss: 0.4879 - accuracy: 0.9248 - max_y_predict: 1.0000 - val_loss: 1.0981 - val_accuracy: 0.8979 - val_max_y_predict: 0.9999\n",
      "Epoch 27/50\n",
      "5600/5600 [==============================] - 0s 56us/sample - loss: 0.4835 - accuracy: 0.9239 - max_y_predict: 1.0000 - val_loss: 1.0637 - val_accuracy: 0.8950 - val_max_y_predict: 1.0000\n",
      "Epoch 28/50\n",
      "5600/5600 [==============================] - 0s 53us/sample - loss: 0.4553 - accuracy: 0.9279 - max_y_predict: 1.0000 - val_loss: 1.1047 - val_accuracy: 0.8957 - val_max_y_predict: 1.0000\n",
      "Epoch 29/50\n",
      "5600/5600 [==============================] - 0s 54us/sample - loss: 0.4352 - accuracy: 0.9300 - max_y_predict: 1.0000 - val_loss: 1.0750 - val_accuracy: 0.9007 - val_max_y_predict: 1.0000\n",
      "Epoch 30/50\n",
      "5600/5600 [==============================] - 0s 56us/sample - loss: 0.4299 - accuracy: 0.9329 - max_y_predict: 1.0000 - val_loss: 1.1005 - val_accuracy: 0.9021 - val_max_y_predict: 1.0000\n",
      "Epoch 31/50\n",
      "5600/5600 [==============================] - 0s 54us/sample - loss: 0.4176 - accuracy: 0.9320 - max_y_predict: 1.0000 - val_loss: 1.1119 - val_accuracy: 0.9057 - val_max_y_predict: 1.0000\n",
      "Epoch 32/50\n",
      "5600/5600 [==============================] - 0s 54us/sample - loss: 0.4006 - accuracy: 0.9359 - max_y_predict: 1.0000 - val_loss: 1.1387 - val_accuracy: 0.9057 - val_max_y_predict: 1.0000\n",
      "Epoch 33/50\n",
      "5600/5600 [==============================] - 0s 58us/sample - loss: 0.3854 - accuracy: 0.9368 - max_y_predict: 1.0000 - val_loss: 1.1989 - val_accuracy: 0.9071 - val_max_y_predict: 1.0000\n",
      "Epoch 34/50\n",
      "5600/5600 [==============================] - 0s 54us/sample - loss: 0.3739 - accuracy: 0.9380 - max_y_predict: 1.0000 - val_loss: 1.1577 - val_accuracy: 0.9093 - val_max_y_predict: 1.0000\n",
      "Epoch 35/50\n",
      "5600/5600 [==============================] - 0s 55us/sample - loss: 0.3596 - accuracy: 0.9407 - max_y_predict: 1.0000 - val_loss: 1.1211 - val_accuracy: 0.9079 - val_max_y_predict: 1.0000\n",
      "Epoch 36/50\n",
      "5600/5600 [==============================] - 0s 53us/sample - loss: 0.3481 - accuracy: 0.9429 - max_y_predict: 1.0000 - val_loss: 1.1601 - val_accuracy: 0.9129 - val_max_y_predict: 1.0000\n",
      "Epoch 37/50\n",
      "5600/5600 [==============================] - 0s 54us/sample - loss: 0.3364 - accuracy: 0.9459 - max_y_predict: 1.0000 - val_loss: 1.1229 - val_accuracy: 0.9050 - val_max_y_predict: 1.0000\n",
      "Epoch 38/50\n",
      "5600/5600 [==============================] - 0s 54us/sample - loss: 0.3275 - accuracy: 0.9468 - max_y_predict: 1.0000 - val_loss: 1.1658 - val_accuracy: 0.9086 - val_max_y_predict: 1.0000\n",
      "Epoch 39/50\n",
      "5600/5600 [==============================] - 0s 53us/sample - loss: 0.3160 - accuracy: 0.9482 - max_y_predict: 1.0000 - val_loss: 1.1580 - val_accuracy: 0.9164 - val_max_y_predict: 1.0000\n",
      "Epoch 40/50\n",
      "5600/5600 [==============================] - 0s 54us/sample - loss: 0.3049 - accuracy: 0.9482 - max_y_predict: 1.0000 - val_loss: 1.1202 - val_accuracy: 0.9136 - val_max_y_predict: 1.0000\n",
      "Epoch 41/50\n"
     ]
    },
    {
     "name": "stdout",
     "output_type": "stream",
     "text": [
      "5600/5600 [==============================] - 0s 53us/sample - loss: 0.3008 - accuracy: 0.9513 - max_y_predict: 1.0000 - val_loss: 1.1646 - val_accuracy: 0.9107 - val_max_y_predict: 1.0000\n",
      "Epoch 42/50\n",
      "5600/5600 [==============================] - 0s 53us/sample - loss: 0.2896 - accuracy: 0.9520 - max_y_predict: 1.0000 - val_loss: 1.1576 - val_accuracy: 0.9171 - val_max_y_predict: 1.0000\n",
      "Epoch 43/50\n",
      "5600/5600 [==============================] - 0s 54us/sample - loss: 0.2808 - accuracy: 0.9516 - max_y_predict: 1.0000 - val_loss: 1.1398 - val_accuracy: 0.9129 - val_max_y_predict: 1.0000\n",
      "Epoch 44/50\n",
      "5600/5600 [==============================] - 0s 53us/sample - loss: 0.2740 - accuracy: 0.9548 - max_y_predict: 1.0000 - val_loss: 1.1679 - val_accuracy: 0.9121 - val_max_y_predict: 1.0000\n",
      "Epoch 45/50\n",
      "5600/5600 [==============================] - 0s 53us/sample - loss: 0.2649 - accuracy: 0.9554 - max_y_predict: 1.0000 - val_loss: 1.2205 - val_accuracy: 0.9143 - val_max_y_predict: 1.0000\n",
      "Epoch 46/50\n",
      "5600/5600 [==============================] - 0s 55us/sample - loss: 0.2574 - accuracy: 0.9555 - max_y_predict: 1.0000 - val_loss: 1.1760 - val_accuracy: 0.9179 - val_max_y_predict: 1.0000\n",
      "Epoch 47/50\n",
      "5600/5600 [==============================] - 0s 53us/sample - loss: 0.2502 - accuracy: 0.9575 - max_y_predict: 1.0000 - val_loss: 1.2367 - val_accuracy: 0.9171 - val_max_y_predict: 1.0000\n",
      "Epoch 48/50\n",
      "5600/5600 [==============================] - 0s 53us/sample - loss: 0.2440 - accuracy: 0.9570 - max_y_predict: 1.0000 - val_loss: 1.2443 - val_accuracy: 0.9186 - val_max_y_predict: 1.0000\n",
      "Epoch 49/50\n",
      "5600/5600 [==============================] - 0s 54us/sample - loss: 0.2376 - accuracy: 0.9588 - max_y_predict: 1.0000 - val_loss: 1.2305 - val_accuracy: 0.9186 - val_max_y_predict: 1.0000\n",
      "Epoch 50/50\n",
      "5600/5600 [==============================] - 0s 54us/sample - loss: 0.2298 - accuracy: 0.9607 - max_y_predict: 1.0000 - val_loss: 1.2524 - val_accuracy: 0.9136 - val_max_y_predict: 1.0000\n"
     ]
    }
   ],
   "source": [
    "# Callback object 1\n",
    "mcp = keras.callbacks.ModelCheckpoint(filepath=\"models/best_model_3.hdf5\", verbose=2 , save_best_only=True)\n",
    "\n",
    "# Custom Callback\n",
    "class AccuracyLogger(keras.callbacks.Callback):\n",
    "    def on_train_begin(self, logs={}):\n",
    "        print('Creating a log directory and cleaning files at the beginning of training')\n",
    "        os.system('mkdir -p logs')\n",
    "        with open('logs/train_acc.txt', 'w') as f: \n",
    "            f.write('')\n",
    "        with open('logs/val_acc.txt', 'w') as f: \n",
    "            f.write('')\n",
    "\n",
    "    def on_epoch_end(self, epoch, logs={}):\n",
    "        print('Inside callback: epoch = ', epoch, 'logs = ', logs)\n",
    "        train_acc = logs['accuracy']\n",
    "        val_acc = logs['val_accuracy']\n",
    "        with open('logs/train_acc.txt', 'a') as f: # open in append mode 'a', will clear previous data if use 'w'  \n",
    "            f.write('Epoch {}: {}\\n'.format(epoch, train_acc))\n",
    "        with open('logs/val_acc.txt', 'a') as f: # open in append mode 'a', will clear previous data if use 'w'  \n",
    "            f.write('Epoch {}: {}\\n'.format(epoch, val_acc))\n",
    "\n",
    "# Custom Callback object 2        \n",
    "al = AccuracyLogger()\n",
    "\n",
    "        \n",
    "# Fitting the model with data\n",
    "results = model.fit(x_train, y_train, batch_size=32, epochs=50, validation_split=0.2 )\n"
   ]
  },
  {
   "cell_type": "code",
   "execution_count": 11,
   "metadata": {},
   "outputs": [],
   "source": [
    "# You can also save the last model\n",
    "model.save(\"models/end_model_3.hdf5\")\n"
   ]
  },
  {
   "cell_type": "code",
   "execution_count": 14,
   "metadata": {},
   "outputs": [
    {
     "name": "stdout",
     "output_type": "stream",
     "text": [
      "[4 0 1 ... 5 2 3]\n",
      "[4 0 1 ... 5 2 3]\n",
      "Testing accuray is 0.9133333333333333\n",
      "Label 0 Testing accuracy is 0.9605263157894737\n",
      "Label 1 Testing accuracy is 0.973293768545994\n",
      "Label 2 Testing accuracy is 0.8478964401294499\n",
      "Label 3 Testing accuracy is 0.8291139240506329\n",
      "Label 4 Testing accuracy is 0.8442028985507246\n",
      "Label 5 Testing accuracy is 0.88\n",
      "Label 6 Testing accuracy is 0.9487179487179487\n",
      "Label 7 Testing accuracy is 0.9483870967741935\n",
      "Label 8 Testing accuracy is 0.9347079037800687\n",
      "Label 9 Testing accuracy is 0.9579288025889967\n"
     ]
    }
   ],
   "source": [
    "y_test_pred_p = model.predict(x_test)\n",
    "y_test_pred = np.argmax(y_test_pred_p, axis=1)\n",
    "y_test_true = np.argmax(y_test, axis=1)\n",
    "\n",
    "print(y_test_pred)\n",
    "print(y_test_true)\n",
    "test_acc = np.mean(y_test_pred == y_test_true)\n",
    "print(\"Testing accuray is\",test_acc)\n",
    "\n",
    "for c in range(10):\n",
    "    label_test_acc = np.mean([y_test_pred[i] == y_test_true[i] for i in range(len(y_test_pred)) if y_test_true[i] == c])\n",
    "    print(\"Label {} Testing accuracy is\".format(c), label_test_acc)\n"
   ]
  }
 ],
 "metadata": {
  "kernelspec": {
   "display_name": "Python 3",
   "language": "python",
   "name": "python3"
  },
  "language_info": {
   "codemirror_mode": {
    "name": "ipython",
    "version": 3
   },
   "file_extension": ".py",
   "mimetype": "text/x-python",
   "name": "python",
   "nbconvert_exporter": "python",
   "pygments_lexer": "ipython3",
   "version": "3.6.9"
  }
 },
 "nbformat": 4,
 "nbformat_minor": 2
}
